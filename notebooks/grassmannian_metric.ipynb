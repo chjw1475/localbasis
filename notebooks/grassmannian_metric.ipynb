{
 "cells": [
  {
   "cell_type": "code",
   "execution_count": 3,
   "metadata": {},
   "outputs": [],
   "source": [
    "%matplotlib inline\n",
    "from notebook_init import *\n",
    "import time\n",
    "from tqdm import tqdm\n",
    "\n",
    "out_root = Path('out/consistency')\n",
    "makedirs(out_root, exist_ok=True)\n",
    "# rand = lambda : np.random.randint(np.iinfo(np.int32).max)"
   ]
  },
  {
   "cell_type": "code",
   "execution_count": 4,
   "metadata": {},
   "outputs": [
    {
     "name": "stdout",
     "output_type": "stream",
     "text": [
      "Loading ../models/checkpoints/stylegan2/stylegan2_ffhq_1024.pt\n"
     ]
    }
   ],
   "source": [
    "use_w = True\n",
    "inst = get_instrumented_model('StyleGAN2', 'ffhq', 'style', device, inst=inst, use_w=use_w)\n",
    "model = inst.model\n",
    "model.truncation = 1.0"
   ]
  },
  {
   "cell_type": "code",
   "execution_count": 5,
   "metadata": {},
   "outputs": [],
   "source": [
    "#Load directions\n",
    "gs_dir = np.load('./global_directions/ganspace_directions_ffhq.npy')#Note! Only ffhq is provided.\n",
    "gs_dir = torch.from_numpy(gs_dir).to(device)\n",
    "sf_dir = np.load('./global_directions/sefa_directions_ffhq.npy')#Note! Only ffhq is provided.\n",
    "sf_dir = torch.from_numpy(sf_dir).to(device)\n",
    "class compare_basis_config:\n",
    "    n_samples = 50\n",
    "    seed = 0\n",
    "    subspace_dim = 2"
   ]
  },
  {
   "cell_type": "code",
   "execution_count": 6,
   "metadata": {},
   "outputs": [],
   "source": [
    "torch.autograd.set_grad_enabled(True)\n",
    "eval_config = compare_basis_config()"
   ]
  },
  {
   "cell_type": "markdown",
   "metadata": {},
   "source": [
    "## Grassmannain Metric between two random O(n)"
   ]
  },
  {
   "cell_type": "code",
   "execution_count": null,
   "metadata": {},
   "outputs": [
    {
     "name": "stdout",
     "output_type": "stream",
     "text": [
      "Evaluated dim 1\n"
     ]
    },
    {
     "name": "stderr",
     "output_type": "stream",
     "text": [
      "100%|██████████| 100/100 [01:29<00:00,  1.11it/s]\n"
     ]
    },
    {
     "name": "stdout",
     "output_type": "stream",
     "text": [
      "Evaluated dim 2\n"
     ]
    },
    {
     "name": "stderr",
     "output_type": "stream",
     "text": [
      "100%|██████████| 100/100 [01:29<00:00,  1.12it/s]\n"
     ]
    },
    {
     "name": "stdout",
     "output_type": "stream",
     "text": [
      "Evaluated dim 3\n"
     ]
    },
    {
     "name": "stderr",
     "output_type": "stream",
     "text": [
      "100%|██████████| 100/100 [01:30<00:00,  1.11it/s]\n"
     ]
    },
    {
     "name": "stdout",
     "output_type": "stream",
     "text": [
      "Evaluated dim 4\n"
     ]
    },
    {
     "name": "stderr",
     "output_type": "stream",
     "text": [
      "100%|██████████| 100/100 [01:29<00:00,  1.11it/s]\n"
     ]
    },
    {
     "name": "stdout",
     "output_type": "stream",
     "text": [
      "Evaluated dim 5\n"
     ]
    },
    {
     "name": "stderr",
     "output_type": "stream",
     "text": [
      "100%|██████████| 100/100 [01:30<00:00,  1.11it/s]\n"
     ]
    },
    {
     "name": "stdout",
     "output_type": "stream",
     "text": [
      "Evaluated dim 6\n"
     ]
    },
    {
     "name": "stderr",
     "output_type": "stream",
     "text": [
      "100%|██████████| 100/100 [01:31<00:00,  1.09it/s]\n"
     ]
    },
    {
     "name": "stdout",
     "output_type": "stream",
     "text": [
      "Evaluated dim 7\n"
     ]
    },
    {
     "name": "stderr",
     "output_type": "stream",
     "text": [
      "100%|██████████| 100/100 [01:30<00:00,  1.11it/s]\n"
     ]
    },
    {
     "name": "stdout",
     "output_type": "stream",
     "text": [
      "Evaluated dim 8\n"
     ]
    },
    {
     "name": "stderr",
     "output_type": "stream",
     "text": [
      "100%|██████████| 100/100 [01:30<00:00,  1.10it/s]\n"
     ]
    },
    {
     "name": "stdout",
     "output_type": "stream",
     "text": [
      "Evaluated dim 9\n"
     ]
    },
    {
     "name": "stderr",
     "output_type": "stream",
     "text": [
      "100%|██████████| 100/100 [01:29<00:00,  1.11it/s]\n"
     ]
    },
    {
     "name": "stdout",
     "output_type": "stream",
     "text": [
      "Evaluated dim 10\n"
     ]
    },
    {
     "name": "stderr",
     "output_type": "stream",
     "text": [
      "100%|██████████| 100/100 [01:30<00:00,  1.10it/s]\n"
     ]
    },
    {
     "name": "stdout",
     "output_type": "stream",
     "text": [
      "Evaluated dim 11\n"
     ]
    },
    {
     "name": "stderr",
     "output_type": "stream",
     "text": [
      "100%|██████████| 100/100 [01:30<00:00,  1.11it/s]\n"
     ]
    },
    {
     "name": "stdout",
     "output_type": "stream",
     "text": [
      "Evaluated dim 12\n"
     ]
    },
    {
     "name": "stderr",
     "output_type": "stream",
     "text": [
      "100%|██████████| 100/100 [01:29<00:00,  1.12it/s]\n"
     ]
    },
    {
     "name": "stdout",
     "output_type": "stream",
     "text": [
      "Evaluated dim 13\n"
     ]
    },
    {
     "name": "stderr",
     "output_type": "stream",
     "text": [
      "100%|██████████| 100/100 [01:28<00:00,  1.14it/s]\n"
     ]
    },
    {
     "name": "stdout",
     "output_type": "stream",
     "text": [
      "Evaluated dim 14\n"
     ]
    },
    {
     "name": "stderr",
     "output_type": "stream",
     "text": [
      "100%|██████████| 100/100 [01:28<00:00,  1.13it/s]\n"
     ]
    },
    {
     "name": "stdout",
     "output_type": "stream",
     "text": [
      "Evaluated dim 15\n"
     ]
    },
    {
     "name": "stderr",
     "output_type": "stream",
     "text": [
      "100%|██████████| 100/100 [01:29<00:00,  1.12it/s]\n"
     ]
    },
    {
     "name": "stdout",
     "output_type": "stream",
     "text": [
      "Evaluated dim 16\n"
     ]
    },
    {
     "name": "stderr",
     "output_type": "stream",
     "text": [
      "100%|██████████| 100/100 [01:28<00:00,  1.13it/s]\n"
     ]
    },
    {
     "name": "stdout",
     "output_type": "stream",
     "text": [
      "Evaluated dim 17\n"
     ]
    },
    {
     "name": "stderr",
     "output_type": "stream",
     "text": [
      "100%|██████████| 100/100 [01:28<00:00,  1.13it/s]\n"
     ]
    },
    {
     "name": "stdout",
     "output_type": "stream",
     "text": [
      "Evaluated dim 18\n"
     ]
    },
    {
     "name": "stderr",
     "output_type": "stream",
     "text": [
      "100%|██████████| 100/100 [01:29<00:00,  1.11it/s]\n"
     ]
    },
    {
     "name": "stdout",
     "output_type": "stream",
     "text": [
      "Evaluated dim 19\n"
     ]
    },
    {
     "name": "stderr",
     "output_type": "stream",
     "text": [
      "100%|██████████| 100/100 [01:28<00:00,  1.13it/s]\n"
     ]
    },
    {
     "name": "stdout",
     "output_type": "stream",
     "text": [
      "Evaluated dim 20\n"
     ]
    },
    {
     "name": "stderr",
     "output_type": "stream",
     "text": [
      "100%|██████████| 100/100 [01:29<00:00,  1.12it/s]\n"
     ]
    },
    {
     "name": "stdout",
     "output_type": "stream",
     "text": [
      "Evaluated dim 21\n"
     ]
    },
    {
     "name": "stderr",
     "output_type": "stream",
     "text": [
      "100%|██████████| 100/100 [01:34<00:00,  1.06it/s]\n"
     ]
    },
    {
     "name": "stdout",
     "output_type": "stream",
     "text": [
      "Evaluated dim 22\n"
     ]
    },
    {
     "name": "stderr",
     "output_type": "stream",
     "text": [
      "100%|██████████| 100/100 [01:27<00:00,  1.14it/s]\n"
     ]
    },
    {
     "name": "stdout",
     "output_type": "stream",
     "text": [
      "Evaluated dim 23\n"
     ]
    },
    {
     "name": "stderr",
     "output_type": "stream",
     "text": [
      "100%|██████████| 100/100 [01:26<00:00,  1.16it/s]\n"
     ]
    },
    {
     "name": "stdout",
     "output_type": "stream",
     "text": [
      "Evaluated dim 24\n"
     ]
    },
    {
     "name": "stderr",
     "output_type": "stream",
     "text": [
      "100%|██████████| 100/100 [01:32<00:00,  1.09it/s]\n"
     ]
    },
    {
     "name": "stdout",
     "output_type": "stream",
     "text": [
      "Evaluated dim 25\n"
     ]
    },
    {
     "name": "stderr",
     "output_type": "stream",
     "text": [
      "100%|██████████| 100/100 [01:27<00:00,  1.14it/s]\n"
     ]
    },
    {
     "name": "stdout",
     "output_type": "stream",
     "text": [
      "Evaluated dim 26\n"
     ]
    },
    {
     "name": "stderr",
     "output_type": "stream",
     "text": [
      "100%|██████████| 100/100 [01:28<00:00,  1.13it/s]\n"
     ]
    },
    {
     "name": "stdout",
     "output_type": "stream",
     "text": [
      "Evaluated dim 27\n"
     ]
    },
    {
     "name": "stderr",
     "output_type": "stream",
     "text": [
      " 14%|█▍        | 14/100 [00:13<01:22,  1.05it/s]"
     ]
    }
   ],
   "source": [
    "eval_config.n_samples = 100\n",
    "\n",
    "for metric_type in ['geodesic', 'proj']:\n",
    "    '''\n",
    "    Grassmannain Metric between two Random Orthogonal Matrix\n",
    "    '''\n",
    "    consistency_list = []\n",
    "    time_list = []\n",
    "\n",
    "    for dim in range(1, 51):\n",
    "        print(f'Evaluated dim {dim}')\n",
    "        time.sleep(0.2)\n",
    "        eval_config.subspace_dim = dim\n",
    "\n",
    "        timer = time.time()\n",
    "        consistency = evaluate_random_basis_consistency(model, eval_config, metric_type = metric_type)\n",
    "        consistency_list.append(consistency)\n",
    "        time_list.append(round(time.time() - timer, 2))\n",
    "\n",
    "    plt.plot(consistency_list)\n",
    "    plt.savefig(f'./out/consistency/consistency_o(n)_metric_{metric_type}_n_{eval_config.n_samples}.png')\n",
    "    plt.show()\n",
    "\n",
    "    with open(f'./out/consistency/consistency_o(n)_metric_{metric_type}_n_{eval_config.n_samples}.dill', 'wb') as f:\n",
    "        pickle.dump(consistency_list, f)"
   ]
  },
  {
   "cell_type": "markdown",
   "metadata": {},
   "source": [
    "## Grassmannain Metric between two Random w"
   ]
  },
  {
   "cell_type": "code",
   "execution_count": null,
   "metadata": {},
   "outputs": [],
   "source": [
    "eval_config.n_samples = 1000\n",
    "\n",
    "for metric_type in ['geodesic', 'proj']:\n",
    "    '''\n",
    "    Grassmannain Metric between two Random w\n",
    "    '''\n",
    "    consistency_list = []\n",
    "    time_list = []\n",
    "    for dim in range(1, 51):\n",
    "        print(f'Evaluated dim {dim}')\n",
    "        time.sleep(0.2)\n",
    "        eval_config.subspace_dim = dim\n",
    "\n",
    "        timer = time.time()\n",
    "        consistency = evaluate_basis_consistency(model, eval_config, metric_type = metric_type)\n",
    "        consistency_list.append(consistency)\n",
    "        time_list.append(round(time.time() - timer, 2))\n",
    "\n",
    "    plt.plot(consistency_list)\n",
    "    plt.savefig(f'./out/consistency/consistency_random_metric_{metric_type}_n_{eval_config.n_samples}.png')\n",
    "    plt.show()\n",
    "    \n",
    "    with open(f'./out/consistency/consistency_random_metric_{metric_type}_n_{eval_config.n_samples}.dill', 'wb') as f:\n",
    "        pickle.dump(consistency_list, f)\n",
    "    "
   ]
  },
  {
   "cell_type": "markdown",
   "metadata": {},
   "source": [
    "## Grassmannain Metric between two Close w"
   ]
  },
  {
   "cell_type": "code",
   "execution_count": null,
   "metadata": {},
   "outputs": [],
   "source": [
    "eval_config.n_samples = 1000\n",
    "\n",
    "for metric_type in ['geodesic', 'proj']:\n",
    "    '''\n",
    "    Grassmannain Metric between two Random w\n",
    "    '''\n",
    "    consistency_list = []\n",
    "    time_list = []\n",
    "    eps = 1e-1\n",
    "\n",
    "    for dim in range(1, 51):\n",
    "        print(f'Evaluated dim {dim}')\n",
    "        time.sleep(0.2)\n",
    "        eval_config.subspace_dim = dim\n",
    "\n",
    "        timer = time.time()\n",
    "        consistency = evaluate_basis_consistency_local(model, eval_config, eps = eps,  metric_type = metric_type)\n",
    "        consistency_list.append(consistency)\n",
    "        time_list.append(round(time.time() - timer, 2))\n",
    "\n",
    "\n",
    "    plt.plot(consistency_list)\n",
    "    plt.savefig(f'./out/consistency/consistency_local_metric_{metric_type}_eps_{eps}_n_{eval_config.n_samples}.png')\n",
    "    plt.show()\n",
    "    \n",
    "    with open(f'./out/consistency/consistency_local_metric_{metric_type}_eps_{eps}_n_{eval_config.n_samples}.dill', 'wb') as f:\n",
    "        pickle.dump(consistency_list, f)"
   ]
  },
  {
   "cell_type": "markdown",
   "metadata": {},
   "source": [
    "## Grassmannain Metric between random w and GANSpace"
   ]
  },
  {
   "cell_type": "code",
   "execution_count": null,
   "metadata": {},
   "outputs": [],
   "source": [
    "eval_config.n_samples = 1000\n",
    "global_basis = gs_dir.squeeze().t().cpu()\n",
    "\n",
    "for metric_type in ['geodesic', 'proj']:\n",
    "    '''\n",
    "    Grassmannain Metric between two Random w\n",
    "    '''\n",
    "    consistency_list = []\n",
    "    time_list = []\n",
    "\n",
    "    for dim in range(1, 51):\n",
    "        print(f'Evaluated dim {dim}')\n",
    "        time.sleep(0.2)\n",
    "        eval_config.subspace_dim = dim\n",
    "\n",
    "        timer = time.time()\n",
    "        consistency = evaluate_basis_consistency_to_global(model, eval_config, global_basis,  metric_type = metric_type)\n",
    "        consistency_list.append(consistency)\n",
    "        time_list.append(round(time.time() - timer, 2))\n",
    "\n",
    "\n",
    "    plt.plot(consistency_list)\n",
    "    plt.savefig(f'./out/consistency/consistency_to_global_ganspace_metric_{metric_type}_eps_{eps}_n_{eval_config.n_samples}.png')\n",
    "    plt.show()\n",
    "    \n",
    "    with open(f'./out/consistency/consistency_to_global_ganspace_metric_{metric_type}_n_{eval_config.n_samples}.dill', 'wb') as f:\n",
    "        pickle.dump(consistency_list, f)"
   ]
  },
  {
   "cell_type": "markdown",
   "metadata": {},
   "source": [
    "## Grassmannain Metric between random w and SeFa"
   ]
  },
  {
   "cell_type": "code",
   "execution_count": null,
   "metadata": {},
   "outputs": [],
   "source": [
    "eval_config.n_samples = 1000\n",
    "global_basis = sf_dir.squeeze().t().cpu()\n",
    "\n",
    "for metric_type in ['geodesic', 'proj']:\n",
    "    '''\n",
    "    Grassmannain Metric between two Random w\n",
    "    '''\n",
    "    consistency_list = []\n",
    "    time_list = []\n",
    "    \n",
    "    for dim in range(1, 51):\n",
    "        print(f'Evaluated dim {dim}')\n",
    "        time.sleep(0.2)\n",
    "        eval_config.subspace_dim = dim\n",
    "\n",
    "        timer = time.time()\n",
    "        consistency = evaluate_basis_consistency_to_global(model, eval_config, global_basis,  metric_type = metric_type)\n",
    "        consistency_list.append(consistency)\n",
    "        time_list.append(round(time.time() - timer, 2))\n",
    "        \n",
    "\n",
    "    plt.plot(consistency_list)\n",
    "    plt.savefig(f'./out/consistency/consistency_to_global_sefa_metric_{metric_type}_eps_{eps}_n_{eval_config.n_samples}.png')\n",
    "    plt.show()\n",
    "    \n",
    "    with open(f'./out/consistency/consistency_to_global_sefa_metric_{metric_type}_n_{eval_config.n_samples}.dill', 'wb') as f:\n",
    "        pickle.dump(consistency_list, f)"
   ]
  },
  {
   "cell_type": "markdown",
   "metadata": {},
   "source": [
    "## Ablation study for eps in Close W"
   ]
  },
  {
   "cell_type": "code",
   "execution_count": null,
   "metadata": {},
   "outputs": [],
   "source": [
    "import pickle\n",
    "eval_config.n_samples = 1000\n",
    "\n",
    "for metric_type in ['geodesic', 'proj']:\n",
    "    for eps in [1e-2, 1e-1, 0.25, 5e-1]:\n",
    "        consistency_list = []\n",
    "        time_list = []\n",
    "\n",
    "        for dim in range(1, 51):\n",
    "            print(f'Evaluated dim {dim}')\n",
    "            time.sleep(0.2)\n",
    "            eval_config.subspace_dim = dim\n",
    "\n",
    "            timer = time.time()\n",
    "            consistency = evaluate_basis_consistency_local(model, eval_config, eps = eps,  metric_type = metric_type)\n",
    "            consistency_list.append(consistency)\n",
    "            time_list.append(round(time.time() - timer, 2))\n",
    "\n",
    "\n",
    "        plt.plot(consistency_list)\n",
    "        plt.savefig(f'./out/consistency/consistency_local_metric_{metric_type}_eps_{eps}_n_{eval_config.n_samples}.png')\n",
    "        plt.show()\n",
    "\n",
    "        with open(f'./out/consistency/consistency_local_metric_{metric_type}_eps_{eps}_n_{eval_config.n_samples}.dill', 'wb') as f:\n",
    "            pickle.dump(consistency_list, f)\n",
    "    "
   ]
  },
  {
   "cell_type": "code",
   "execution_count": null,
   "metadata": {},
   "outputs": [],
   "source": []
  }
 ],
 "metadata": {
  "kernelspec": {
   "display_name": "localbasis",
   "language": "python",
   "name": "localbasis"
  },
  "language_info": {
   "codemirror_mode": {
    "name": "ipython",
    "version": 3
   },
   "file_extension": ".py",
   "mimetype": "text/x-python",
   "name": "python",
   "nbconvert_exporter": "python",
   "pygments_lexer": "ipython3",
   "version": "3.7.10"
  }
 },
 "nbformat": 4,
 "nbformat_minor": 4
}
