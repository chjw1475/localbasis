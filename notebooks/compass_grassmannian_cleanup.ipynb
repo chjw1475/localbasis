{
 "cells": [
  {
   "cell_type": "code",
   "execution_count": 1,
   "metadata": {},
   "outputs": [],
   "source": [
    "# Copyright 2020 Erik Härkönen. All rights reserved.\n",
    "# This file is licensed to you under the Apache License, Version 2.0 (the \"License\");\n",
    "# you may not use this file except in compliance with the License. You may obtain a copy\n",
    "# of the License at http://www.apache.org/licenses/LICENSE-2.0\n",
    "\n",
    "# Unless required by applicable law or agreed to in writing, software distributed under\n",
    "# the License is distributed on an \"AS IS\" BASIS, WITHOUT WARRANTIES OR REPRESENTATIONS\n",
    "# OF ANY KIND, either express or implied. See the License for the specific language\n",
    "# governing permissions and limitations under the License.\n",
    "\n",
    "# Show top 10 PCs for StyleGAN2 ffhq\n",
    "# Center along component before manipulation\n",
    "# Also show cleaned up PCs based on top10, a couple of cleaned up later style PCs\n",
    "%matplotlib inline\n",
    "from notebook_init import *\n",
    "import time\n",
    "\n",
    "out_root = Path('out/consistency')\n",
    "makedirs(out_root, exist_ok=True)\n",
    "# rand = lambda : np.random.randint(np.iinfo(np.int32).max)"
   ]
  },
  {
   "cell_type": "code",
   "execution_count": 2,
   "metadata": {},
   "outputs": [
    {
     "name": "stdout",
     "output_type": "stream",
     "text": [
      "Loading ../models/checkpoints/stylegan2/stylegan2_ffhq_1024.pt\n"
     ]
    }
   ],
   "source": [
    "use_w = True\n",
    "inst = get_instrumented_model('StyleGAN2', 'ffhq', 'style', device, inst=inst, use_w=use_w)\n",
    "model = inst.model\n",
    "model.truncation = 1.0"
   ]
  },
  {
   "cell_type": "code",
   "execution_count": 3,
   "metadata": {},
   "outputs": [],
   "source": [
    "gs_dir = np.load('./global_directions/ganspace_directions_ffhq.npy')#Note! Only ffhq is provided.\n",
    "gs_dir = torch.from_numpy(gs_dir).to(device)\n",
    "sf_dir = np.load('./global_directions/sefa_directions_ffhq.npy')#Note! Only ffhq is provided.\n",
    "sf_dir = torch.from_numpy(sf_dir).to(device)\n",
    "class compare_basis_config:\n",
    "    n_samples = 50\n",
    "    seed = 0\n",
    "    subspace_dim = 2"
   ]
  },
  {
   "cell_type": "code",
   "execution_count": 4,
   "metadata": {},
   "outputs": [],
   "source": [
    "torch.autograd.set_grad_enabled(True)\n",
    "eval_config = compare_basis_config()"
   ]
  },
  {
   "cell_type": "markdown",
   "metadata": {},
   "source": [
    "## Grassmannain Metric between two random O(n)"
   ]
  },
  {
   "cell_type": "code",
   "execution_count": null,
   "metadata": {},
   "outputs": [],
   "source": [
    "eval_config.n_samples = 100\n",
    "\n",
    "for metric_type in ['geodesic', 'proj']:\n",
    "    '''\n",
    "    Grassmannain Metric between two Random Orthogonal Matrix\n",
    "    '''\n",
    "    consistency_list = []\n",
    "    time_list = []\n",
    "\n",
    "    for dim in range(1, 51):\n",
    "        eval_config.subspace_dim = dim\n",
    "\n",
    "        timer = time.time()\n",
    "        consistency = evaluate_random_basis_consistency(model, eval_config, metric_type = metric_type)\n",
    "        consistency_list.append(consistency)\n",
    "        time_list.append(round(time.time() - timer, 2))\n",
    "\n",
    "        if (dim + 1) % 10 == 0:\n",
    "            print(f'Evaluated dim {dim + 1}')\n",
    "\n",
    "    plt.plot(consistency_list)\n",
    "    plt.savefig(f'./out/consistency/consistency_o(n)_metric_{metric_type}_n_{eval_config.n_samples}.png')\n",
    "    plt.show()\n",
    "\n",
    "    with open(f'./out/consistency/consistency_o(n)_metric_{metric_type}_n_{eval_config.n_samples}.dill', 'wb') as f:\n",
    "        pickle.dump(consistency_list, f)"
   ]
  },
  {
   "cell_type": "markdown",
   "metadata": {},
   "source": [
    "## Grassmannain Metric between two Random w"
   ]
  },
  {
   "cell_type": "code",
   "execution_count": null,
   "metadata": {},
   "outputs": [],
   "source": [
    "eval_config.n_samples = 1000\n",
    "\n",
    "for metric_type in ['geodesic', 'proj']:\n",
    "    '''\n",
    "    Grassmannain Metric between two Random w\n",
    "    '''\n",
    "    consistency_list = []\n",
    "    time_list = []\n",
    "    for dim in range(1, 51):\n",
    "        eval_config.subspace_dim = dim\n",
    "\n",
    "        timer = time.time()\n",
    "        consistency = evaluate_basis_consistency(model, eval_config, metric_type = metric_type)\n",
    "        consistency_list.append(consistency)\n",
    "        time_list.append(round(time.time() - timer, 2))\n",
    "\n",
    "        if (dim + 1) % 10 == 0:\n",
    "            print(f'Evaluated dim {dim + 1}')\n",
    "\n",
    "    plt.plot(consistency_list)\n",
    "    plt.savefig(f'./out/consistency/consistency_random_metric_{metric_type}_n_{eval_config.n_samples}.png')\n",
    "    plt.show()\n",
    "    \n",
    "    with open(f'./out/consistency/consistency_random_metric_{metric_type}_n_{eval_config.n_samples}.dill', 'wb') as f:\n",
    "        pickle.dump(consistency_list, f)\n",
    "    "
   ]
  },
  {
   "cell_type": "markdown",
   "metadata": {},
   "source": [
    "## Grassmannain Metric between two Close w"
   ]
  },
  {
   "cell_type": "code",
   "execution_count": null,
   "metadata": {},
   "outputs": [],
   "source": [
    "eval_config.n_samples = 1000\n",
    "\n",
    "for metric_type in ['geodesic', 'proj']:\n",
    "    '''\n",
    "    Grassmannain Metric between two Random w\n",
    "    '''\n",
    "    consistency_list = []\n",
    "    time_list = []\n",
    "    eps = 1e-1\n",
    "\n",
    "    for dim in range(1, 51):\n",
    "        eval_config.subspace_dim = dim\n",
    "\n",
    "        timer = time.time()\n",
    "        consistency = evaluate_basis_consistency_local(model, eval_config, eps = eps,  metric_type = metric_type)\n",
    "        consistency_list.append(consistency)\n",
    "        time_list.append(round(time.time() - timer, 2))\n",
    "\n",
    "        if (dim + 1) % 10 == 0:\n",
    "            print(f'Evaluated dim {dim + 1}')\n",
    "\n",
    "    plt.plot(consistency_list)\n",
    "    plt.savefig(f'./out/consistency/consistency_local_metric_{metric_type}_eps_{eps}_n_{eval_config.n_samples}.png')\n",
    "    plt.show()\n",
    "    \n",
    "    with open(f'./out/consistency/consistency_local_metric_{metric_type}_eps_{eps}_n_{eval_config.n_samples}.dill', 'wb') as f:\n",
    "        pickle.dump(consistency_list, f)"
   ]
  },
  {
   "cell_type": "markdown",
   "metadata": {},
   "source": [
    "## Grassmannain Metric between random w and GANSpace"
   ]
  },
  {
   "cell_type": "code",
   "execution_count": null,
   "metadata": {},
   "outputs": [],
   "source": [
    "eval_config.n_samples = 1000\n",
    "global_basis = gs_dir.squeeze().t().cpu()\n",
    "\n",
    "for metric_type in ['geodesic', 'proj']:\n",
    "    '''\n",
    "    Grassmannain Metric between two Random w\n",
    "    '''\n",
    "    consistency_list = []\n",
    "    time_list = []\n",
    "\n",
    "    for dim in range(1, 51):\n",
    "        eval_config.subspace_dim = dim\n",
    "\n",
    "        timer = time.time()\n",
    "        consistency = evaluate_basis_consistency_to_global(model, eval_config, global_basis,  metric_type = metric_type)\n",
    "        consistency_list.append(consistency)\n",
    "        time_list.append(round(time.time() - timer, 2))\n",
    "\n",
    "        if (dim + 1) % 10 == 0:\n",
    "            print(f'Evaluated dim {dim + 1}')\n",
    "\n",
    "    plt.plot(consistency_list)\n",
    "    plt.savefig(f'./out/consistency/consistency_to_global_ganspace_metric_{metric_type}_eps_{eps}_n_{eval_config.n_samples}.png')\n",
    "    plt.show()\n",
    "    \n",
    "    with open(f'./out/consistency/consistency_to_global_ganspace_metric_{metric_type}_n_{eval_config.n_samples}.dill', 'wb') as f:\n",
    "        pickle.dump(consistency_list, f)"
   ]
  },
  {
   "cell_type": "markdown",
   "metadata": {},
   "source": [
    "## Grassmannain Metric between random w and SeFa"
   ]
  },
  {
   "cell_type": "code",
   "execution_count": null,
   "metadata": {},
   "outputs": [],
   "source": [
    "eval_config.n_samples = 1000\n",
    "global_basis = sf_dir.squeeze().t().cpu()\n",
    "\n",
    "for metric_type in ['geodesic', 'proj']:\n",
    "    '''\n",
    "    Grassmannain Metric between two Random w\n",
    "    '''\n",
    "    consistency_list = []\n",
    "    time_list = []\n",
    "    \n",
    "    for dim in range(1, 51):\n",
    "        eval_config.subspace_dim = dim\n",
    "\n",
    "        timer = time.time()\n",
    "        consistency = evaluate_basis_consistency_to_global(model, eval_config, global_basis,  metric_type = metric_type)\n",
    "        consistency_list.append(consistency)\n",
    "        time_list.append(round(time.time() - timer, 2))\n",
    "\n",
    "        if (dim + 1) % 10 == 0:\n",
    "            print(f'Evaluated dim {dim + 1}')\n",
    "\n",
    "    plt.plot(consistency_list)\n",
    "    plt.savefig(f'./out/consistency/consistency_to_global_sefa_metric_{metric_type}_eps_{eps}_n_{eval_config.n_samples}.png')\n",
    "    plt.show()\n",
    "    \n",
    "    with open(f'./out/consistency/consistency_to_global_sefa_metric_{metric_type}_n_{eval_config.n_samples}.dill', 'wb') as f:\n",
    "        pickle.dump(consistency_list, f)"
   ]
  },
  {
   "cell_type": "markdown",
   "metadata": {},
   "source": [
    "## Ablation study for eps in Close W"
   ]
  },
  {
   "cell_type": "code",
   "execution_count": null,
   "metadata": {},
   "outputs": [],
   "source": [
    "import pickle\n",
    "eval_config.n_samples = 1000\n",
    "\n",
    "for metric_type in ['geodesic', 'proj']:\n",
    "    for eps in [1e-2, 1e-1, 0.25, 5e-1]:\n",
    "        consistency_list = []\n",
    "        time_list = []\n",
    "\n",
    "        for dim in range(1, 51):\n",
    "            eval_config.subspace_dim = dim\n",
    "\n",
    "            timer = time.time()\n",
    "            consistency = evaluate_basis_consistency_local(model, eval_config, eps = eps,  metric_type = metric_type)\n",
    "            consistency_list.append(consistency)\n",
    "            time_list.append(round(time.time() - timer, 2))\n",
    "\n",
    "            if (dim + 1) % 10 == 0:\n",
    "                print(f'Evaluated dim {dim + 1}')\n",
    "\n",
    "        plt.plot(consistency_list)\n",
    "        plt.savefig(f'./out/consistency/consistency_local_metric_{metric_type}_eps_{eps}_n_{eval_config.n_samples}.png')\n",
    "        plt.show()\n",
    "\n",
    "        with open(f'./out/consistency/consistency_local_metric_{metric_type}_eps_{eps}_n_{eval_config.n_samples}.dill', 'wb') as f:\n",
    "            pickle.dump(consistency_list, f)\n",
    "    "
   ]
  },
  {
   "cell_type": "code",
   "execution_count": null,
   "metadata": {},
   "outputs": [],
   "source": []
  },
  {
   "cell_type": "code",
   "execution_count": null,
   "metadata": {},
   "outputs": [],
   "source": []
  },
  {
   "cell_type": "code",
   "execution_count": null,
   "metadata": {},
   "outputs": [],
   "source": []
  }
 ],
 "metadata": {
  "kernelspec": {
   "display_name": "ganspace",
   "language": "python",
   "name": "ganspace"
  },
  "language_info": {
   "codemirror_mode": {
    "name": "ipython",
    "version": 3
   },
   "file_extension": ".py",
   "mimetype": "text/x-python",
   "name": "python",
   "nbconvert_exporter": "python",
   "pygments_lexer": "ipython3",
   "version": "3.7.10"
  }
 },
 "nbformat": 4,
 "nbformat_minor": 4
}
